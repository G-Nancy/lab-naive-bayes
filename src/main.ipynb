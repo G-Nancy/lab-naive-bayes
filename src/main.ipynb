{
 "cells": [
  {
   "cell_type": "markdown",
   "id": "ca411179-237e-4f6a-853c-3db4bae77d7c",
   "metadata": {},
   "source": [
    "# Predicting Diabetes Using Naive Bayes\n",
    "\n",
    "### Objective\n",
    "- Apply Naive Bayes for binary classification.\n",
    "- Practice data exploration and preprocessing.\n",
    "- Evaluate model performance using appropriate metrics.\n",
    "- Understand and interpret the log probabilities used in Naive Bayes.\n",
    "\n",
    "### Dataset\n",
    "This lab uses the Pima Indians Diabetes Dataset from the UCI Machine Learning Repository. It contains 8 features based on medical information, with a binary target indicating the presence of diabetes (1) or absence (0).\n",
    "\n",
    "### Features\n",
    "`Pregnancies`: Number of times pregnant\n",
    "`Glucose`: Plasma glucose concentration\n",
    "`BloodPressure`: Diastolic blood pressure (mm Hg)\n",
    "`SkinThickness`: Triceps skinfold thickness (mm)\n",
    "`Insulin`: 2-Hour serum insulin (mu U/ml)\n",
    "`BMI`: Body mass index (weight in kg/(height in m)^2)\n",
    "`DiabetesPedigreeFunction`: Diabetes pedigree function (a function based on family history)\n",
    "`Age`: Age (years)\n",
    "`Outcome`: Class variable (1 if patient has diabetes, 0 otherwise)"
   ]
  },
  {
   "cell_type": "markdown",
   "id": "a69ab905-df5a-4814-b608-85e0b9ce4522",
   "metadata": {},
   "source": [
    "### Import packages"
   ]
  },
  {
   "cell_type": "code",
   "execution_count": 1,
   "id": "b63f66cf-2fc1-4232-af50-527235c37374",
   "metadata": {},
   "outputs": [],
   "source": [
    "# Import the necessary libraries for data manipulation, model training, and evaluation.\n",
    "# your code here\n",
    "\n",
    "import pandas as pd\n",
    "import numpy as np\n",
    "from sklearn.model_selection import train_test_split\n",
    "from sklearn.naive_bayes import GaussianNB\n",
    "from sklearn.metrics import accuracy_score, classification_report, confusion_matrix\n",
    "import matplotlib.pyplot as plt\n",
    "import seaborn as sns"
   ]
  },
  {
   "cell_type": "markdown",
   "id": "ae8795d9-448e-442e-8825-2544731f44df",
   "metadata": {},
   "source": [
    "### Data Loading and Exploration"
   ]
  },
  {
   "cell_type": "code",
   "execution_count": 7,
   "id": "e0540e43-06d2-4b2d-a36c-2ccc6ce47286",
   "metadata": {},
   "outputs": [
    {
     "name": "stdout",
     "output_type": "stream",
     "text": [
      "       Pregnancies     Glucose  BloodPressure  SkinThickness     Insulin  \\\n",
      "count   768.000000  768.000000     768.000000     768.000000  768.000000   \n",
      "mean      3.845052  120.894531      69.105469      20.536458   79.799479   \n",
      "std       3.369578   31.972618      19.355807      15.952218  115.244002   \n",
      "min       0.000000    0.000000       0.000000       0.000000    0.000000   \n",
      "25%       1.000000   99.000000      62.000000       0.000000    0.000000   \n",
      "50%       3.000000  117.000000      72.000000      23.000000   30.500000   \n",
      "75%       6.000000  140.250000      80.000000      32.000000  127.250000   \n",
      "max      17.000000  199.000000     122.000000      99.000000  846.000000   \n",
      "\n",
      "              BMI  DiabetesPedigreeFunction         Age     Outcome  \n",
      "count  768.000000                768.000000  768.000000  768.000000  \n",
      "mean    31.992578                  0.471876   33.240885    0.348958  \n",
      "std      7.884160                  0.331329   11.760232    0.476951  \n",
      "min      0.000000                  0.078000   21.000000    0.000000  \n",
      "25%     27.300000                  0.243750   24.000000    0.000000  \n",
      "50%     32.000000                  0.372500   29.000000    0.000000  \n",
      "75%     36.600000                  0.626250   41.000000    1.000000  \n",
      "max     67.100000                  2.420000   81.000000    1.000000  \n",
      "     Pregnancies  Glucose  BloodPressure  SkinThickness  Insulin   BMI  \\\n",
      "285            7      136             74             26      135  26.0   \n",
      "220            0      177             60             29      478  34.6   \n",
      "256            3      111             56             39        0  30.1   \n",
      "\n",
      "     DiabetesPedigreeFunction  Age  Outcome  \n",
      "285                     0.647   51        0  \n",
      "220                     1.072   21        1  \n",
      "256                     0.557   30        0  \n"
     ]
    },
    {
     "data": {
      "text/plain": [
       "Pregnancies                 0\n",
       "Glucose                     0\n",
       "BloodPressure               0\n",
       "SkinThickness               0\n",
       "Insulin                     0\n",
       "BMI                         0\n",
       "DiabetesPedigreeFunction    0\n",
       "Age                         0\n",
       "Outcome                     0\n",
       "dtype: int64"
      ]
     },
     "execution_count": 7,
     "metadata": {},
     "output_type": "execute_result"
    }
   ],
   "source": [
    "# Load the Pima Indiands Diabetes Dataset in the folder ../data and preview the data\n",
    "# Display summary statistics\n",
    "df = pd.read_csv(\"../data/pima_diabetes.csv\")\n",
    "print(df.describe())\n",
    "print(df.sample(3))\n",
    "df.isnull().sum()"
   ]
  },
  {
   "cell_type": "markdown",
   "id": "dceacc95-5238-46dd-bbe2-304cfce94133",
   "metadata": {},
   "source": [
    "### Data Cleaning\n",
    "\n",
    "1. *Handling Missing Values*: Replace 0 values in Glucose, BloodPressure, SkinThickness, Insulin, and BMI columns with their respective median values.\n",
    "2. *Split Data*: Separate the feature columns (X) and target (y), and then split into training and test sets with an 80-20 split."
   ]
  },
  {
   "cell_type": "code",
   "execution_count": 18,
   "id": "7320c1cf-09b0-47ac-bd6a-3a3955e89f71",
   "metadata": {},
   "outputs": [
    {
     "name": "stdout",
     "output_type": "stream",
     "text": [
      "       Pregnancies     Glucose  BloodPressure  SkinThickness     Insulin  \\\n",
      "count   768.000000  768.000000     768.000000     768.000000  768.000000   \n",
      "mean      3.845052  121.681605      72.254807      26.606479  118.660163   \n",
      "std       3.369578   30.436016      12.115932       9.631241   93.080358   \n",
      "min       0.000000   44.000000      24.000000       7.000000   14.000000   \n",
      "25%       1.000000   99.750000      64.000000      20.536458   79.799479   \n",
      "50%       3.000000  117.000000      72.000000      23.000000   79.799479   \n",
      "75%       6.000000  140.250000      80.000000      32.000000  127.250000   \n",
      "max      17.000000  199.000000     122.000000      99.000000  846.000000   \n",
      "\n",
      "              BMI  DiabetesPedigreeFunction         Age     Outcome  \n",
      "count  768.000000                768.000000  768.000000  768.000000  \n",
      "mean    32.450805                  0.471876   33.240885    0.348958  \n",
      "std      6.875374                  0.331329   11.760232    0.476951  \n",
      "min     18.200000                  0.078000   21.000000    0.000000  \n",
      "25%     27.500000                  0.243750   24.000000    0.000000  \n",
      "50%     32.000000                  0.372500   29.000000    0.000000  \n",
      "75%     36.600000                  0.626250   41.000000    1.000000  \n",
      "max     67.100000                  2.420000   81.000000    1.000000  \n"
     ]
    }
   ],
   "source": [
    "cols = [\"Glucose\",\"BloodPressure\",\"SkinThickness\",\"Insulin\",\"BMI\"]\n",
    "\n",
    "df[df[\"Glucose\"] == 0][\"Glucose\"]\n",
    "\n",
    "for col in cols:\n",
    "    df[col] = df[col].replace({0:df[col].mean()})\n",
    "\n",
    "print(df.describe())"
   ]
  },
  {
   "cell_type": "markdown",
   "id": "fa4e4bcc-7f24-4b93-9975-ec9f436c8c73",
   "metadata": {},
   "source": [
    "### Train a Naïve Bayes Classifier\n",
    "\n",
    "Since the features are continuous, we need to use the `GaussianNB` model instead of the ones we used so far for categorical variables"
   ]
  },
  {
   "cell_type": "code",
   "execution_count": 28,
   "id": "0b94c06c-42c7-48e9-a82f-3087041deb51",
   "metadata": {},
   "outputs": [],
   "source": [
    "# your code here\n",
    "from sklearn.naive_bayes import GaussianNB\n",
    "\n",
    "X = df.drop(columns=['Outcome'])\n",
    "y = df['Outcome']\n",
    "\n",
    "X_train, X_test, y_train, y_test = train_test_split(X, y, test_size=0.2, random_state=5)\n",
    "\n",
    "nb_classifier = GaussianNB().fit(X_train, y_train)\n",
    "y_pred = nb_classifier.predict(X_test)\n",
    "\n"
   ]
  },
  {
   "cell_type": "markdown",
   "id": "05a519ee-88e5-47ec-8dc2-21c1483ba242",
   "metadata": {},
   "source": [
    "### Model Evaluation\n",
    "\n",
    "Evaluate the model's accuracy, precision and recall. Analyse the confusion matrix.\n",
    "Give the setting of the problem, which metrics would you privilege?"
   ]
  },
  {
   "cell_type": "code",
   "execution_count": 24,
   "id": "8a3a26af-011b-4f6f-9e34-cfdf185cd2c5",
   "metadata": {
    "scrolled": true
   },
   "outputs": [
    {
     "name": "stdout",
     "output_type": "stream",
     "text": [
      "[[86 20]\n",
      " [14 34]] 0.7792207792207793\n"
     ]
    }
   ],
   "source": [
    "accu = accuracy_score(y_pred, y_test)\n",
    "conv =confusion_matrix(y_pred, y_test)\n",
    "\n",
    "print(conv, accu)"
   ]
  },
  {
   "cell_type": "markdown",
   "id": "d028fb89-4f57-4f8d-a714-f369ab0b5911",
   "metadata": {},
   "source": [
    "### Exploring Log Probabilities in Naïve Bayes\n",
    "\n",
    "Naive Bayes calculates log probabilities (logprobs) for each class to make predictions. Let's use `predict_log_proba` to calculate the log probabilities for each class (diabetes vs. no diabetes) for a few samples in the test set.\n",
    "\n",
    "Question: For a given instance in the test set, calculate the log probabilities for each class (diabetes vs. no diabetes) and interpret the values. How does Naive Bayes decide the predicted class based on these log probabilities?"
   ]
  },
  {
   "cell_type": "code",
   "execution_count": 29,
   "id": "3478981e-3183-4ba3-8226-f27b7d86639e",
   "metadata": {},
   "outputs": [
    {
     "name": "stdout",
     "output_type": "stream",
     "text": [
      "Sample 0 - Log Probabilities:\n",
      "No Diabetes (0): -0.1182, Diabetes (1): -2.1940\n",
      "Predicted Class: 0\n",
      "\n",
      "Sample 1 - Log Probabilities:\n",
      "No Diabetes (0): -0.4166, Diabetes (1): -1.0767\n",
      "Predicted Class: 0\n",
      "\n",
      "Sample 12 - Log Probabilities:\n",
      "No Diabetes (0): -3.6099, Diabetes (1): -0.0274\n",
      "Predicted Class: 1\n",
      "\n"
     ]
    }
   ],
   "source": [
    "# Select a few samples from the test set\n",
    "sample_indices = [0, 1, 12] \n",
    "X_sample = X_test.iloc[sample_indices]\n",
    "\n",
    "# Calculate log probabilities for each class\n",
    "log_probs = nb_classifier.predict_log_proba(X_sample)\n",
    "\n",
    "# Display results\n",
    "for i, index in enumerate(sample_indices):\n",
    "    print(f\"Sample {index} - Log Probabilities:\")\n",
    "    print(f\"No Diabetes (0): {log_probs[i][0]:.4f}, Diabetes (1): {log_probs[i][1]:.4f}\")\n",
    "    print(f\"Predicted Class: {nb_classifier.predict(X_sample.iloc[[i]])[0]}\")\n",
    "    print()"
   ]
  },
  {
   "cell_type": "markdown",
   "id": "929a2b08-fa53-4edd-81e3-347351cc7fcb",
   "metadata": {},
   "source": [
    "- Interpretation of Log Probabilities: Log probabilities represent the logarithm of the probability for each class. A higher log probability (closer to zero, since log values are negative) indicates a higher likelihood for that class.\n",
    "- Decision-Making: The model predicts the class with the highest log probability. If the log probability for Diabetes (1) is higher (closer to zero) than for No Diabetes (0), the model will predict Diabetes (1).\n",
    "\n",
    "Convert log probabilities back to regular probabilities using np.exp(log_probs) to see how log transformations aid computation without changing predictions."
   ]
  },
  {
   "cell_type": "code",
   "execution_count": 30,
   "id": "0ebdc252-3f81-4c6e-801c-addcad261528",
   "metadata": {},
   "outputs": [
    {
     "name": "stdout",
     "output_type": "stream",
     "text": [
      "[[0.88852665 0.11147335]\n",
      " [0.65929873 0.34070127]\n",
      " [0.02705407 0.97294593]]\n",
      "Sample 0 - Log Probabilities:\n",
      "No Diabetes (0): 0.8885, Diabetes (1): 0.1115\n",
      "Predicted Class: 0\n",
      "\n",
      "Sample 1 - Log Probabilities:\n",
      "No Diabetes (0): 0.6593, Diabetes (1): 0.3407\n",
      "Predicted Class: 0\n",
      "\n",
      "Sample 12 - Log Probabilities:\n",
      "No Diabetes (0): 0.0271, Diabetes (1): 0.9729\n",
      "Predicted Class: 1\n",
      "\n"
     ]
    }
   ],
   "source": [
    "# your code here\n",
    "# Convert log probabilities back to regular probabilities using np.exp(log_probs) to see how log transformations aid computation without changing predictions.\n",
    "probs = np.exp(nb_classifier.predict_log_proba(X_sample))\n",
    "\n",
    "print(gau.predict_proba(X_sample))\n",
    "\n",
    "# Display results\n",
    "for i, index in enumerate(sample_indices):\n",
    "    print(f\"Sample {index} - Log Probabilities:\")\n",
    "    print(f\"No Diabetes (0): {probs[i][0]:.4f}, Diabetes (1): {probs[i][1]:.4f}\")\n",
    "    print(f\"Predicted Class: {nb_classifier.predict(X_sample.iloc[[i]])[0]}\")\n",
    "    print()\n"
   ]
  },
  {
   "cell_type": "markdown",
   "id": "d8ba72a4-28b9-46ce-954d-4a58f31f2c2e",
   "metadata": {},
   "source": [
    "Change your decision treshold so that either class 1 or 0 becomes more frequent in order to optimize your preferred metric (precision or recall) for this problem. Try multiple tresholds until you are satisfied with your choice."
   ]
  },
  {
   "cell_type": "code",
   "execution_count": 34,
   "id": "a633a9d1-52f5-456a-a696-338bfbfe6d39",
   "metadata": {},
   "outputs": [
    {
     "data": {
      "text/html": [
       "<div>\n",
       "<style scoped>\n",
       "    .dataframe tbody tr th:only-of-type {\n",
       "        vertical-align: middle;\n",
       "    }\n",
       "\n",
       "    .dataframe tbody tr th {\n",
       "        vertical-align: top;\n",
       "    }\n",
       "\n",
       "    .dataframe thead th {\n",
       "        text-align: right;\n",
       "    }\n",
       "</style>\n",
       "<table border=\"1\" class=\"dataframe\">\n",
       "  <thead>\n",
       "    <tr style=\"text-align: right;\">\n",
       "      <th></th>\n",
       "      <th>index</th>\n",
       "      <th>no_diab_prob</th>\n",
       "      <th>diab_prob</th>\n",
       "      <th>prediction</th>\n",
       "      <th>y_test</th>\n",
       "    </tr>\n",
       "  </thead>\n",
       "  <tbody>\n",
       "    <tr>\n",
       "      <th>0</th>\n",
       "      <td>567</td>\n",
       "      <td>0.888527</td>\n",
       "      <td>0.888527</td>\n",
       "      <td>0</td>\n",
       "      <td>567    0\n",
       "Name: Outcome, dtype: int64</td>\n",
       "    </tr>\n",
       "    <tr>\n",
       "      <th>1</th>\n",
       "      <td>123</td>\n",
       "      <td>0.659299</td>\n",
       "      <td>0.659299</td>\n",
       "      <td>0</td>\n",
       "      <td>123    0\n",
       "Name: Outcome, dtype: int64</td>\n",
       "    </tr>\n",
       "    <tr>\n",
       "      <th>2</th>\n",
       "      <td>615</td>\n",
       "      <td>0.981489</td>\n",
       "      <td>0.981489</td>\n",
       "      <td>0</td>\n",
       "      <td>615    0\n",
       "Name: Outcome, dtype: int64</td>\n",
       "    </tr>\n",
       "    <tr>\n",
       "      <th>3</th>\n",
       "      <td>492</td>\n",
       "      <td>0.920843</td>\n",
       "      <td>0.920843</td>\n",
       "      <td>0</td>\n",
       "      <td>492    0\n",
       "Name: Outcome, dtype: int64</td>\n",
       "    </tr>\n",
       "    <tr>\n",
       "      <th>4</th>\n",
       "      <td>288</td>\n",
       "      <td>0.993464</td>\n",
       "      <td>0.993464</td>\n",
       "      <td>0</td>\n",
       "      <td>288    0\n",
       "Name: Outcome, dtype: int64</td>\n",
       "    </tr>\n",
       "  </tbody>\n",
       "</table>\n",
       "</div>"
      ],
      "text/plain": [
       "   index  no_diab_prob  diab_prob  prediction  \\\n",
       "0    567      0.888527   0.888527           0   \n",
       "1    123      0.659299   0.659299           0   \n",
       "2    615      0.981489   0.981489           0   \n",
       "3    492      0.920843   0.920843           0   \n",
       "4    288      0.993464   0.993464           0   \n",
       "\n",
       "                                 y_test  \n",
       "0  567    0\n",
       "Name: Outcome, dtype: int64  \n",
       "1  123    0\n",
       "Name: Outcome, dtype: int64  \n",
       "2  615    0\n",
       "Name: Outcome, dtype: int64  \n",
       "3  492    0\n",
       "Name: Outcome, dtype: int64  \n",
       "4  288    0\n",
       "Name: Outcome, dtype: int64  "
      ]
     },
     "execution_count": 34,
     "metadata": {},
     "output_type": "execute_result"
    }
   ],
   "source": [
    "treshold = 0.5 # adjust this number to make it easier/harder to classify someone as diabetic\n",
    "\n",
    "\n",
    "# Calculate log probabilities for each class\n",
    "log_probs = nb_classifier.predict_log_proba(X_test)\n",
    "\n",
    "#compute probability of No Diabetes (0) vs Diabetes (1)\n",
    "probabilities = []\n",
    "for i, index in enumerate(X_test.index):\n",
    "    prediction = 0 if np.exp(log_probs[i][0]) >= treshold else 1\n",
    "    probabilities.append({'index':index,'no_diab_prob': np.exp(log_probs[i][0]), 'diab_prob': np.exp(log_probs[i][0]), 'prediction':prediction, 'y_test':y_test.iloc[[i]]})\n",
    "\n",
    "probabilities = pd.DataFrame(probabilities)\n",
    "probabilities.head()"
   ]
  },
  {
   "cell_type": "code",
   "execution_count": 35,
   "id": "2e08d565-3d2c-4420-a9d8-9b166d6f3285",
   "metadata": {},
   "outputs": [
    {
     "data": {
      "image/png": "[encoded data removed]",
      "text/plain": [
       "<Figure size 640x480 with 2 Axes>"
      ]
     },
     "metadata": {},
     "output_type": "display_data"
    }
   ],
   "source": [
    "# create the confusion matrix for the adjusted problem\n",
    "y_pred_adjusted = probabilities['prediction']\n",
    "cm = confusion_matrix(y_test, y_pred_adjusted)\n",
    "sns.heatmap(cm, annot=True, fmt='d', cmap='Blues', xticklabels=['No Diabetes', 'Diabetes'], yticklabels=['No Diabetes', 'Diabetes'])\n",
    "plt.xlabel(\"Predicted Label\")\n",
    "plt.ylabel(\"True Label\")\n",
    "plt.title(\"Confusion Matrix\")\n",
    "plt.show()"
   ]
  },
  {
   "cell_type": "code",
   "execution_count": null,
   "id": "ea27f615-c4f3-4f1b-882e-fcfbb383361a",
   "metadata": {},
   "outputs": [],
   "source": []
  },
  {
   "cell_type": "code",
   "execution_count": null,
   "id": "54a6c769-320f-4cea-95e6-c049976295e6",
   "metadata": {},
   "outputs": [],
   "source": []
  }
 ],
 "metadata": {
  "kernelspec": {
   "display_name": "3.9.2",
   "language": "python",
   "name": "python3"
  },
  "language_info": {
   "codemirror_mode": {
    "name": "ipython",
    "version": 3
   },
   "file_extension": ".py",
   "mimetype": "text/x-python",
   "name": "python",
   "nbconvert_exporter": "python",
   "pygments_lexer": "ipython3",
   "version": "3.9.2"
  }
 },
 "nbformat": 4,
 "nbformat_minor": 5
}
